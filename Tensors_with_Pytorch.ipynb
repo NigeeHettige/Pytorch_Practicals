{
  "nbformat": 4,
  "nbformat_minor": 0,
  "metadata": {
    "colab": {
      "provenance": [],
      "authorship_tag": "ABX9TyNRh6l0ockakLcEX++hHdli",
      "include_colab_link": true
    },
    "kernelspec": {
      "name": "python3",
      "display_name": "Python 3"
    },
    "language_info": {
      "name": "python"
    }
  },
  "cells": [
    {
      "cell_type": "markdown",
      "metadata": {
        "id": "view-in-github",
        "colab_type": "text"
      },
      "source": [
        "<a href=\"https://colab.research.google.com/github/NigeeHettige/Pytorch_Practicals/blob/main/Tensors_with_Pytorch.ipynb\" target=\"_parent\"><img src=\"https://colab.research.google.com/assets/colab-badge.svg\" alt=\"Open In Colab\"/></a>"
      ]
    },
    {
      "cell_type": "markdown",
      "source": [
        "## **Tensors**\n",
        "\n",
        "\n",
        "*   A torch ,Tensor is a multi-dimensional matrix containing elements of single data type.\n",
        "\n",
        "*   Similar to Numpy Arrays,but full of fun things that make them work better on GPU's(vs regular CPU's).\n",
        "\n",
        "*   default data type of float32.\n",
        "\n",
        "*   More suitable for deep learning than numpy array.\n",
        "\n",
        "\n",
        "\n"
      ],
      "metadata": {
        "id": "puQ-f5W2SWkW"
      }
    },
    {
      "cell_type": "code",
      "execution_count": 4,
      "metadata": {
        "id": "Vr5zSco0IPCr"
      },
      "outputs": [],
      "source": [
        "import torch\n",
        "import numpy as np\n"
      ]
    },
    {
      "cell_type": "markdown",
      "source": [
        "# **Lists**"
      ],
      "metadata": {
        "id": "cpM6tafMSEe2"
      }
    },
    {
      "cell_type": "code",
      "source": [
        "my_list = [1,2,3,4,5],[6,7,8,9,10]\n",
        "my_list"
      ],
      "metadata": {
        "colab": {
          "base_uri": "https://localhost:8080/"
        },
        "id": "8ZdM2UH3QhXG",
        "outputId": "4b167143-8730-4a6d-c50b-b51444e6e05d"
      },
      "execution_count": 6,
      "outputs": [
        {
          "output_type": "execute_result",
          "data": {
            "text/plain": [
              "([1, 2, 3, 4, 5], [6, 7, 8, 9, 10])"
            ]
          },
          "metadata": {},
          "execution_count": 6
        }
      ]
    },
    {
      "cell_type": "markdown",
      "source": [
        "## **Numpy Arrays**"
      ],
      "metadata": {
        "id": "oMaGxhx2TFaE"
      }
    },
    {
      "cell_type": "code",
      "source": [
        "np1 = np.random.rand(3,4)\n",
        "np1"
      ],
      "metadata": {
        "colab": {
          "base_uri": "https://localhost:8080/"
        },
        "id": "AZQTyLShR3KZ",
        "outputId": "38305084-c56c-46b9-f2df-f77b20eba868"
      },
      "execution_count": 7,
      "outputs": [
        {
          "output_type": "execute_result",
          "data": {
            "text/plain": [
              "array([[0.7839022 , 0.4959069 , 0.71727938, 0.60451244],\n",
              "       [0.01508338, 0.49028639, 0.52776299, 0.67165684],\n",
              "       [0.50359285, 0.23226658, 0.673063  , 0.40635238]])"
            ]
          },
          "metadata": {},
          "execution_count": 7
        }
      ]
    },
    {
      "cell_type": "code",
      "source": [
        "np1.dtype"
      ],
      "metadata": {
        "colab": {
          "base_uri": "https://localhost:8080/"
        },
        "id": "EgezRUxUTTAX",
        "outputId": "4009e427-efe9-45e0-d751-ffed98264bc5"
      },
      "execution_count": 8,
      "outputs": [
        {
          "output_type": "execute_result",
          "data": {
            "text/plain": [
              "dtype('float64')"
            ]
          },
          "metadata": {},
          "execution_count": 8
        }
      ]
    },
    {
      "cell_type": "markdown",
      "source": [
        "## **Tensors**"
      ],
      "metadata": {
        "id": "zhOVlfURTX4E"
      }
    },
    {
      "cell_type": "code",
      "source": [
        "tensor_2d = torch.randn(3,4)\n",
        "print(tensor_2d)\n",
        "tensor_2d.dtype"
      ],
      "metadata": {
        "colab": {
          "base_uri": "https://localhost:8080/"
        },
        "id": "6c6pI-StTWFg",
        "outputId": "7c53da34-cd5a-48b0-d454-47104ec9fc53"
      },
      "execution_count": 14,
      "outputs": [
        {
          "output_type": "stream",
          "name": "stdout",
          "text": [
            "tensor([[ 1.2319, -0.0396,  0.2975, -0.0681],\n",
            "        [ 0.4982,  1.0092, -1.2933,  1.6981],\n",
            "        [ 1.3519,  0.0612,  1.8264, -0.5175]])\n"
          ]
        },
        {
          "output_type": "execute_result",
          "data": {
            "text/plain": [
              "torch.float32"
            ]
          },
          "metadata": {},
          "execution_count": 14
        }
      ]
    },
    {
      "cell_type": "code",
      "source": [
        "tensor_3d = torch.zeros(2,3,4)\n",
        "tensor_3d"
      ],
      "metadata": {
        "colab": {
          "base_uri": "https://localhost:8080/"
        },
        "id": "4e-fCAuKThYC",
        "outputId": "d17cf73d-89a3-4dfe-8978-ea8fcaa19645"
      },
      "execution_count": 11,
      "outputs": [
        {
          "output_type": "execute_result",
          "data": {
            "text/plain": [
              "tensor([[[0., 0., 0., 0.],\n",
              "         [0., 0., 0., 0.],\n",
              "         [0., 0., 0., 0.]],\n",
              "\n",
              "        [[0., 0., 0., 0.],\n",
              "         [0., 0., 0., 0.],\n",
              "         [0., 0., 0., 0.]]])"
            ]
          },
          "metadata": {},
          "execution_count": 11
        }
      ]
    },
    {
      "cell_type": "code",
      "source": [
        "## Create tensor out of numpy array\n",
        "tensor_np = torch.tensor(np1)\n",
        "tensor_np"
      ],
      "metadata": {
        "colab": {
          "base_uri": "https://localhost:8080/"
        },
        "id": "KUl0WkNCT1uH",
        "outputId": "d4792d72-0d51-4275-900b-44c21745d6a7"
      },
      "execution_count": 12,
      "outputs": [
        {
          "output_type": "execute_result",
          "data": {
            "text/plain": [
              "tensor([[0.7839, 0.4959, 0.7173, 0.6045],\n",
              "        [0.0151, 0.4903, 0.5278, 0.6717],\n",
              "        [0.5036, 0.2323, 0.6731, 0.4064]], dtype=torch.float64)"
            ]
          },
          "metadata": {},
          "execution_count": 12
        }
      ]
    },
    {
      "cell_type": "code",
      "source": [],
      "metadata": {
        "id": "s8OrXxiAUMI1"
      },
      "execution_count": null,
      "outputs": []
    }
  ]
}